{
 "cells": [
  {
   "cell_type": "markdown",
   "metadata": {},
   "source": [
    "# Roll the Dice: Taking a Chance on Python Development and Managing a Pathfinder RPG Campaign for the First Time\n",
    "### NB: I should probably create a better, more succinct title for a Medium post. \n",
    "\n",
    "Some friends of mine have recently tasked me with being the DM for a Pathfinder game, and I have fallen a bit behind. The idea does fascinate me.\n",
    "\n",
    "So here is how I will combine my desire to improve my programming skills and my thought process as a developer. \n",
    "\n",
    "The goal for this part is to simulate the requisite number fo dice rolls or very simple dice behavior. \n",
    "\n",
    "\n"
   ]
  },
  {
   "cell_type": "code",
   "execution_count": null,
   "metadata": {},
   "outputs": [],
   "source": []
  }
 ],
 "metadata": {
  "kernelspec": {
   "display_name": "Python 3",
   "language": "python",
   "name": "python3"
  },
  "language_info": {
   "codemirror_mode": {
    "name": "ipython",
    "version": 3
   },
   "file_extension": ".py",
   "mimetype": "text/x-python",
   "name": "python",
   "nbconvert_exporter": "python",
   "pygments_lexer": "ipython3",
   "version": "3.6.0"
  }
 },
 "nbformat": 4,
 "nbformat_minor": 2
}
