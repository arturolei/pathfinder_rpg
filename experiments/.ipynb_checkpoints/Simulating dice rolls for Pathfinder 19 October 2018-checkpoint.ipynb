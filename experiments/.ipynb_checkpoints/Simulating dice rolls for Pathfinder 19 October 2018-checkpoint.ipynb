{
 "cells": [
  {
   "cell_type": "markdown",
   "metadata": {},
   "source": [
    "# Roll the Dice: Taking a Chance on Python Development and Managing a Pathfinder RPG Campaign for the First Time\n",
    "### NB: I should probably create a better, more succinct title for a Medium post. \n",
    "\n",
    "Some friends of mine have recently tasked me with being the DM for a Pathfinder game, and I have fallen a bit behind. The idea does fascinate me.\n",
    "\n",
    "So here is how I will combine my desire to improve my programming skills and my thought process as a developer. \n",
    "\n",
    "The goal for this part is to simulate the requisite number fo dice rolls or very simple dice behavior. \n",
    "\n",
    "## Approaches/Ideas\n",
    "- Dice should be an object, spawn as needed?\n",
    "- If OOP approach, Init with two parameters, one for count and one for number of faces (ergo, if I need 4 d6, I just need to create a die. \n",
    "    - Method for die would\n",
    "\n",
    "\n"
   ]
  },
  {
   "cell_type": "code",
   "execution_count": 3,
   "metadata": {},
   "outputs": [
    {
     "name": "stdout",
     "output_type": "stream",
     "text": [
      "4\n"
     ]
    }
   ],
   "source": [
    "import random\n",
    "\n",
    "class Die:\n",
    "    \"\"\"\n",
    "    The die class, two paramters, defaults as shown below. \n",
    "    \"\"\"\n",
    "    def __init__(self, d_count=1, d_faces =20):\n",
    "        self.d_count = d_count\n",
    "        self.d_faces = d_faces\n",
    "        \n",
    "    def roll:\n",
    "        print ([ for i in range(d_count)])\n",
    "        \n",
    "# Should be four d6\n",
    "test_die = Die(4,6)\n",
    "print(test_die.d_count)"
   ]
  },
  {
   "cell_type": "code",
   "execution_count": null,
   "metadata": {},
   "outputs": [],
   "source": []
  }
 ],
 "metadata": {
  "kernelspec": {
   "display_name": "Python 3",
   "language": "python",
   "name": "python3"
  },
  "language_info": {
   "codemirror_mode": {
    "name": "ipython",
    "version": 3
   },
   "file_extension": ".py",
   "mimetype": "text/x-python",
   "name": "python",
   "nbconvert_exporter": "python",
   "pygments_lexer": "ipython3",
   "version": "3.6.0"
  }
 },
 "nbformat": 4,
 "nbformat_minor": 2
}
